{
 "cells": [
  {
   "cell_type": "code",
   "execution_count": 365,
   "metadata": {},
   "outputs": [],
   "source": [
    "import pandas as pd\n",
    "import matplotlib.pyplot as plt\n",
    "import random\n",
    "from math import sqrt\n",
    "import numpy as np"
   ]
  },
  {
   "cell_type": "code",
   "execution_count": 366,
   "metadata": {},
   "outputs": [],
   "source": [
    "b = pd.read_csv('~/Downloads/iris.csv')"
   ]
  },
  {
   "cell_type": "code",
   "execution_count": 367,
   "metadata": {},
   "outputs": [],
   "source": [
    "b = b[['petal length', 'petal width']]"
   ]
  },
  {
   "cell_type": "code",
   "execution_count": 368,
   "metadata": {},
   "outputs": [
    {
     "data": {
      "text/plain": [
       "<matplotlib.collections.PathCollection at 0x22cfa9f58c8>"
      ]
     },
     "execution_count": 368,
     "metadata": {},
     "output_type": "execute_result"
    },
    {
     "data": {
      "image/png": "[encoded data removed]",
      "text/plain": [
       "<Figure size 432x288 with 1 Axes>"
      ]
     },
     "metadata": {
      "needs_background": "light"
     },
     "output_type": "display_data"
    }
   ],
   "source": [
    "plt.scatter(x=b['petal length'], y=b['petal width'])"
   ]
  },
  {
   "cell_type": "code",
   "execution_count": 380,
   "metadata": {},
   "outputs": [],
   "source": [
    "def k_means(data, K):\n",
    "    n = data.shape[0]\n",
    "    cluster = []\n",
    "    centroids = []\n",
    "    centroids_prev = []\n",
    "    for i in range(K):\n",
    "        centroids.append(data.iloc[random.randint(0, n)].values)\n",
    "        centroids_prev.append(np.array([0, 0]))\n",
    "        cluster.append([])\n",
    "    centroids = np.array(centroids)\n",
    "    centroids_prev = np.array(centroids_prev)\n",
    "    while not np.all(centroids_prev == centroids):\n",
    "        for i in range(n):\n",
    "            distance = []\n",
    "            for j in range(K):\n",
    "                distance.append(sqrt(sum((data.iloc[i].values - centroids[j])**2)))\n",
    "            cluster[distance.index(min(distance))].append(data.iloc[i].values)\n",
    "        centroids_prev = centroids\n",
    "        for i in range(K):\n",
    "            x = 0\n",
    "            y = 0\n",
    "            for j in range(len(cluster[i])):\n",
    "                x += cluster[i][j][0]\n",
    "                y += cluster[i][j][1]\n",
    "            centroids[i][0] = x / len(cluster[i])\n",
    "            centroids[i][1] = y / len(cluster[i])\n",
    "    return cluster"
   ]
  },
  {
   "cell_type": "code",
   "execution_count": 391,
   "metadata": {},
   "outputs": [],
   "source": [
    "cluster = k_means(b, 2)"
   ]
  },
  {
   "cell_type": "code",
   "execution_count": 392,
   "metadata": {},
   "outputs": [
    {
     "data": {
      "text/plain": [
       "<matplotlib.collections.PathCollection at 0x22cfbeeef08>"
      ]
     },
     "execution_count": 392,
     "metadata": {},
     "output_type": "execute_result"
    },
    {
     "data": {
      "image/png": "[encoded data removed]",
      "text/plain": [
       "<Figure size 432x288 with 1 Axes>"
      ]
     },
     "metadata": {
      "needs_background": "light"
     },
     "output_type": "display_data"
    }
   ],
   "source": [
    "x = []\n",
    "y = []\n",
    "for i in range(len(cluster[0])):\n",
    "    x.append(cluster[0][i][0])\n",
    "    y.append(cluster[0][i][1])\n",
    "df1 = pd.DataFrame(x, columns=[b.columns[0]])\n",
    "df1[b.columns[1]] = y\n",
    "plt.scatter(x=df1['petal length'], y=df1['petal width'], color='red')\n",
    "x = []\n",
    "y = []\n",
    "for i in range(len(cluster[1])):\n",
    "    x.append(cluster[1][i][0])\n",
    "    y.append(cluster[1][i][1])\n",
    "df2 = pd.DataFrame(x, columns=[b.columns[0]])\n",
    "df2[b.columns[1]] = y\n",
    "plt.scatter(x=df2['petal length'], y=df2['petal width'], color='blue')"
   ]
  },
  {
   "cell_type": "code",
   "execution_count": null,
   "metadata": {},
   "outputs": [],
   "source": []
  }
 ],
 "metadata": {
  "kernelspec": {
   "display_name": "Python 3",
   "language": "python",
   "name": "python3"
  },
  "language_info": {
   "codemirror_mode": {
    "name": "ipython",
    "version": 3
   },
   "file_extension": ".py",
   "mimetype": "text/x-python",
   "name": "python",
   "nbconvert_exporter": "python",
   "pygments_lexer": "ipython3",
   "version": "3.7.7"
  }
 },
 "nbformat": 4,
 "nbformat_minor": 2
}
